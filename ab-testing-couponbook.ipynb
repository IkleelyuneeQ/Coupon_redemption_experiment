{
 "cells": [
  {
   "metadata": {
    "ExecuteTime": {
     "end_time": "2025-10-01T01:39:21.167661Z",
     "start_time": "2025-10-01T01:39:13.107821Z"
    }
   },
   "cell_type": "code",
   "source": [
    "import os\n",
    "from dotenv import load_dotenv\n",
    "from pymongo import MongoClient\n",
    "import pandas as pd\n",
    "from pprint import PrettyPrinter\n",
    "\n",
    "load_dotenv()\n",
    "mongo_uri = os.getenv(\"MONGO_URI\")\n",
    "client = MongoClient(mongo_uri)\n",
    "\n",
    "pp = PrettyPrinter()\n",
    "# pp.pprint(list(client.list_databases()))\n",
    "\n",
    "db = client['sample_supplies']\n",
    "\n",
    "# print(db.list_collection_names())\n",
    "sales = db[\"sales\"]\n",
    "\n",
    "# Check if any inserted data exist in PyMongo\n",
    "if sales.find_one({\"experimentFlag\": True}):\n",
    "    # Delete all experimental rows\n",
    "    result = sales.delete_many({\"experimentFlag\": True})\n",
    "    print(f\"Removed {result.deleted_count} synthetic documents.\")\n",
    "else:\n",
    "    print(\"No synthetic documents found — starting fresh.\")\n",
    "\n",
    "n_documents = sales.count_documents({})\n",
    "print(f\"{n_documents} documents found.\")\n",
    "\n",
    "one_document = sales.find_one()\n",
    "one_document\n"
   ],
   "id": "5dc7f9326fc7bfa1",
   "outputs": [
    {
     "name": "stdout",
     "output_type": "stream",
     "text": [
      "Removed 451 synthetic documents.\n",
      "5000 documents found.\n"
     ]
    },
    {
     "data": {
      "text/plain": [
       "{'_id': ObjectId('5bd761dcae323e45a93ccfe8'),\n",
       " 'saleDate': datetime.datetime(2015, 3, 23, 21, 6, 49, 506000),\n",
       " 'items': [{'name': 'printer paper',\n",
       "   'tags': ['office', 'stationary'],\n",
       "   'price': Decimal128('40.01'),\n",
       "   'quantity': 2},\n",
       "  {'name': 'notepad',\n",
       "   'tags': ['office', 'writing', 'school'],\n",
       "   'price': Decimal128('35.29'),\n",
       "   'quantity': 2},\n",
       "  {'name': 'pens',\n",
       "   'tags': ['writing', 'office', 'school', 'stationary'],\n",
       "   'price': Decimal128('56.12'),\n",
       "   'quantity': 5},\n",
       "  {'name': 'backpack',\n",
       "   'tags': ['school', 'travel', 'kids'],\n",
       "   'price': Decimal128('77.71'),\n",
       "   'quantity': 2},\n",
       "  {'name': 'notepad',\n",
       "   'tags': ['office', 'writing', 'school'],\n",
       "   'price': Decimal128('18.47'),\n",
       "   'quantity': 2},\n",
       "  {'name': 'envelopes',\n",
       "   'tags': ['stationary', 'office', 'general'],\n",
       "   'price': Decimal128('19.95'),\n",
       "   'quantity': 8},\n",
       "  {'name': 'envelopes',\n",
       "   'tags': ['stationary', 'office', 'general'],\n",
       "   'price': Decimal128('8.08'),\n",
       "   'quantity': 3},\n",
       "  {'name': 'binder',\n",
       "   'tags': ['school', 'general', 'organization'],\n",
       "   'price': Decimal128('14.16'),\n",
       "   'quantity': 3}],\n",
       " 'storeLocation': 'Denver',\n",
       " 'customer': {'gender': 'M',\n",
       "  'age': 42,\n",
       "  'email': 'cauho@witwuta.sv',\n",
       "  'satisfaction': 4},\n",
       " 'couponUsed': True,\n",
       " 'purchaseMethod': 'Online'}"
      ]
     },
     "execution_count": 163,
     "metadata": {},
     "output_type": "execute_result"
    }
   ],
   "execution_count": 163
  },
  {
   "metadata": {
    "ExecuteTime": {
     "end_time": "2025-10-01T01:39:24.121492Z",
     "start_time": "2025-10-01T01:39:21.180145Z"
    }
   },
   "cell_type": "code",
   "source": [
    "cursor = sales.find(\n",
    "    {},\n",
    "    {\n",
    "        \"_id\": 0,\n",
    "        \"saleDate\": 1,\n",
    "        \"storeLocation\": 1,\n",
    "        \"couponUsed\": 1,\n",
    "        \"purchaseMethod\": 1,\n",
    "        \"customer\": 1,\n",
    "        \"items\": 1,\n",
    "    },\n",
    ")\n",
    "df = pd.DataFrame(list(cursor)).dropna()\n",
    "df.head()"
   ],
   "id": "cddbc45e2ac6e84f",
   "outputs": [
    {
     "data": {
      "text/plain": [
       "                 saleDate                                              items  \\\n",
       "0 2015-03-23 21:06:49.506  [{'name': 'printer paper', 'tags': ['office', ...   \n",
       "1 2015-08-25 10:01:02.918  [{'name': 'envelopes', 'tags': ['stationary', ...   \n",
       "2 2017-06-22 09:54:14.185  [{'name': 'notepad', 'tags': ['office', 'writi...   \n",
       "3 2015-02-23 09:53:59.343  [{'name': 'binder', 'tags': ['school', 'genera...   \n",
       "4 2017-12-03 18:39:48.253  [{'name': 'backpack', 'tags': ['school', 'trav...   \n",
       "\n",
       "  storeLocation                                           customer  \\\n",
       "0        Denver  {'gender': 'M', 'age': 42, 'email': 'cauho@wit...   \n",
       "1       Seattle  {'gender': 'M', 'age': 50, 'email': 'keecade@h...   \n",
       "2        Denver  {'gender': 'M', 'age': 51, 'email': 'worbiduh@...   \n",
       "3       Seattle  {'gender': 'F', 'age': 45, 'email': 'vatires@t...   \n",
       "4        London  {'gender': 'M', 'age': 40, 'email': 'dotzu@ib....   \n",
       "\n",
       "   couponUsed purchaseMethod  \n",
       "0        True         Online  \n",
       "1       False          Phone  \n",
       "2       False       In store  \n",
       "3       False       In store  \n",
       "4       False       In store  "
      ],
      "text/html": [
       "<div>\n",
       "<style scoped>\n",
       "    .dataframe tbody tr th:only-of-type {\n",
       "        vertical-align: middle;\n",
       "    }\n",
       "\n",
       "    .dataframe tbody tr th {\n",
       "        vertical-align: top;\n",
       "    }\n",
       "\n",
       "    .dataframe thead th {\n",
       "        text-align: right;\n",
       "    }\n",
       "</style>\n",
       "<table border=\"1\" class=\"dataframe\">\n",
       "  <thead>\n",
       "    <tr style=\"text-align: right;\">\n",
       "      <th></th>\n",
       "      <th>saleDate</th>\n",
       "      <th>items</th>\n",
       "      <th>storeLocation</th>\n",
       "      <th>customer</th>\n",
       "      <th>couponUsed</th>\n",
       "      <th>purchaseMethod</th>\n",
       "    </tr>\n",
       "  </thead>\n",
       "  <tbody>\n",
       "    <tr>\n",
       "      <th>0</th>\n",
       "      <td>2015-03-23 21:06:49.506</td>\n",
       "      <td>[{'name': 'printer paper', 'tags': ['office', ...</td>\n",
       "      <td>Denver</td>\n",
       "      <td>{'gender': 'M', 'age': 42, 'email': 'cauho@wit...</td>\n",
       "      <td>True</td>\n",
       "      <td>Online</td>\n",
       "    </tr>\n",
       "    <tr>\n",
       "      <th>1</th>\n",
       "      <td>2015-08-25 10:01:02.918</td>\n",
       "      <td>[{'name': 'envelopes', 'tags': ['stationary', ...</td>\n",
       "      <td>Seattle</td>\n",
       "      <td>{'gender': 'M', 'age': 50, 'email': 'keecade@h...</td>\n",
       "      <td>False</td>\n",
       "      <td>Phone</td>\n",
       "    </tr>\n",
       "    <tr>\n",
       "      <th>2</th>\n",
       "      <td>2017-06-22 09:54:14.185</td>\n",
       "      <td>[{'name': 'notepad', 'tags': ['office', 'writi...</td>\n",
       "      <td>Denver</td>\n",
       "      <td>{'gender': 'M', 'age': 51, 'email': 'worbiduh@...</td>\n",
       "      <td>False</td>\n",
       "      <td>In store</td>\n",
       "    </tr>\n",
       "    <tr>\n",
       "      <th>3</th>\n",
       "      <td>2015-02-23 09:53:59.343</td>\n",
       "      <td>[{'name': 'binder', 'tags': ['school', 'genera...</td>\n",
       "      <td>Seattle</td>\n",
       "      <td>{'gender': 'F', 'age': 45, 'email': 'vatires@t...</td>\n",
       "      <td>False</td>\n",
       "      <td>In store</td>\n",
       "    </tr>\n",
       "    <tr>\n",
       "      <th>4</th>\n",
       "      <td>2017-12-03 18:39:48.253</td>\n",
       "      <td>[{'name': 'backpack', 'tags': ['school', 'trav...</td>\n",
       "      <td>London</td>\n",
       "      <td>{'gender': 'M', 'age': 40, 'email': 'dotzu@ib....</td>\n",
       "      <td>False</td>\n",
       "      <td>In store</td>\n",
       "    </tr>\n",
       "  </tbody>\n",
       "</table>\n",
       "</div>"
      ]
     },
     "execution_count": 164,
     "metadata": {},
     "output_type": "execute_result"
    }
   ],
   "execution_count": 164
  },
  {
   "metadata": {
    "ExecuteTime": {
     "end_time": "2025-10-01T01:39:24.179329Z",
     "start_time": "2025-10-01T01:39:24.131564Z"
    }
   },
   "cell_type": "code",
   "source": [
    "df[\"age\"] = df[\"customer\"].apply(lambda x: x.get(\"age\"))\n",
    "df[\"customer_email\"] = df[\"customer\"].apply(lambda x: x.get(\"email\"))\n",
    "df[\"itemsNamesStr\"] = df[\"items\"].apply(\n",
    "    lambda lst: \", \".join(d.get(\"name\", \"\") for d in lst) if isinstance(lst, list) else \"\"\n",
    ")\n",
    "df.head()\n",
    "\n"
   ],
   "id": "db73d4a5d5b93ce4",
   "outputs": [
    {
     "data": {
      "text/plain": [
       "                 saleDate                                              items  \\\n",
       "0 2015-03-23 21:06:49.506  [{'name': 'printer paper', 'tags': ['office', ...   \n",
       "1 2015-08-25 10:01:02.918  [{'name': 'envelopes', 'tags': ['stationary', ...   \n",
       "2 2017-06-22 09:54:14.185  [{'name': 'notepad', 'tags': ['office', 'writi...   \n",
       "3 2015-02-23 09:53:59.343  [{'name': 'binder', 'tags': ['school', 'genera...   \n",
       "4 2017-12-03 18:39:48.253  [{'name': 'backpack', 'tags': ['school', 'trav...   \n",
       "\n",
       "  storeLocation                                           customer  \\\n",
       "0        Denver  {'gender': 'M', 'age': 42, 'email': 'cauho@wit...   \n",
       "1       Seattle  {'gender': 'M', 'age': 50, 'email': 'keecade@h...   \n",
       "2        Denver  {'gender': 'M', 'age': 51, 'email': 'worbiduh@...   \n",
       "3       Seattle  {'gender': 'F', 'age': 45, 'email': 'vatires@t...   \n",
       "4        London  {'gender': 'M', 'age': 40, 'email': 'dotzu@ib....   \n",
       "\n",
       "   couponUsed purchaseMethod  age     customer_email  \\\n",
       "0        True         Online   42   cauho@witwuta.sv   \n",
       "1       False          Phone   50     keecade@hem.uy   \n",
       "2       False       In store   51  worbiduh@vowbu.cg   \n",
       "3       False       In store   45      vatires@ta.pe   \n",
       "4       False       In store   40        dotzu@ib.sh   \n",
       "\n",
       "                                       itemsNamesStr  \n",
       "0  printer paper, notepad, pens, backpack, notepa...  \n",
       "1  envelopes, binder, notepad, laptop, notepad, p...  \n",
       "2  notepad, binder, notepad, pens, printer paper,...  \n",
       "3  binder, pens, backpack, printer paper, notepad...  \n",
       "4  backpack, notepad, binder, pens, notepad, enve...  "
      ],
      "text/html": [
       "<div>\n",
       "<style scoped>\n",
       "    .dataframe tbody tr th:only-of-type {\n",
       "        vertical-align: middle;\n",
       "    }\n",
       "\n",
       "    .dataframe tbody tr th {\n",
       "        vertical-align: top;\n",
       "    }\n",
       "\n",
       "    .dataframe thead th {\n",
       "        text-align: right;\n",
       "    }\n",
       "</style>\n",
       "<table border=\"1\" class=\"dataframe\">\n",
       "  <thead>\n",
       "    <tr style=\"text-align: right;\">\n",
       "      <th></th>\n",
       "      <th>saleDate</th>\n",
       "      <th>items</th>\n",
       "      <th>storeLocation</th>\n",
       "      <th>customer</th>\n",
       "      <th>couponUsed</th>\n",
       "      <th>purchaseMethod</th>\n",
       "      <th>age</th>\n",
       "      <th>customer_email</th>\n",
       "      <th>itemsNamesStr</th>\n",
       "    </tr>\n",
       "  </thead>\n",
       "  <tbody>\n",
       "    <tr>\n",
       "      <th>0</th>\n",
       "      <td>2015-03-23 21:06:49.506</td>\n",
       "      <td>[{'name': 'printer paper', 'tags': ['office', ...</td>\n",
       "      <td>Denver</td>\n",
       "      <td>{'gender': 'M', 'age': 42, 'email': 'cauho@wit...</td>\n",
       "      <td>True</td>\n",
       "      <td>Online</td>\n",
       "      <td>42</td>\n",
       "      <td>cauho@witwuta.sv</td>\n",
       "      <td>printer paper, notepad, pens, backpack, notepa...</td>\n",
       "    </tr>\n",
       "    <tr>\n",
       "      <th>1</th>\n",
       "      <td>2015-08-25 10:01:02.918</td>\n",
       "      <td>[{'name': 'envelopes', 'tags': ['stationary', ...</td>\n",
       "      <td>Seattle</td>\n",
       "      <td>{'gender': 'M', 'age': 50, 'email': 'keecade@h...</td>\n",
       "      <td>False</td>\n",
       "      <td>Phone</td>\n",
       "      <td>50</td>\n",
       "      <td>keecade@hem.uy</td>\n",
       "      <td>envelopes, binder, notepad, laptop, notepad, p...</td>\n",
       "    </tr>\n",
       "    <tr>\n",
       "      <th>2</th>\n",
       "      <td>2017-06-22 09:54:14.185</td>\n",
       "      <td>[{'name': 'notepad', 'tags': ['office', 'writi...</td>\n",
       "      <td>Denver</td>\n",
       "      <td>{'gender': 'M', 'age': 51, 'email': 'worbiduh@...</td>\n",
       "      <td>False</td>\n",
       "      <td>In store</td>\n",
       "      <td>51</td>\n",
       "      <td>worbiduh@vowbu.cg</td>\n",
       "      <td>notepad, binder, notepad, pens, printer paper,...</td>\n",
       "    </tr>\n",
       "    <tr>\n",
       "      <th>3</th>\n",
       "      <td>2015-02-23 09:53:59.343</td>\n",
       "      <td>[{'name': 'binder', 'tags': ['school', 'genera...</td>\n",
       "      <td>Seattle</td>\n",
       "      <td>{'gender': 'F', 'age': 45, 'email': 'vatires@t...</td>\n",
       "      <td>False</td>\n",
       "      <td>In store</td>\n",
       "      <td>45</td>\n",
       "      <td>vatires@ta.pe</td>\n",
       "      <td>binder, pens, backpack, printer paper, notepad...</td>\n",
       "    </tr>\n",
       "    <tr>\n",
       "      <th>4</th>\n",
       "      <td>2017-12-03 18:39:48.253</td>\n",
       "      <td>[{'name': 'backpack', 'tags': ['school', 'trav...</td>\n",
       "      <td>London</td>\n",
       "      <td>{'gender': 'M', 'age': 40, 'email': 'dotzu@ib....</td>\n",
       "      <td>False</td>\n",
       "      <td>In store</td>\n",
       "      <td>40</td>\n",
       "      <td>dotzu@ib.sh</td>\n",
       "      <td>backpack, notepad, binder, pens, notepad, enve...</td>\n",
       "    </tr>\n",
       "  </tbody>\n",
       "</table>\n",
       "</div>"
      ]
     },
     "execution_count": 165,
     "metadata": {},
     "output_type": "execute_result"
    }
   ],
   "execution_count": 165
  },
  {
   "metadata": {
    "ExecuteTime": {
     "end_time": "2025-10-01T01:39:24.206574Z",
     "start_time": "2025-10-01T01:39:24.186533Z"
    }
   },
   "cell_type": "code",
   "source": [
    "# storeLocation\n",
    "segment_storeLocation = (\n",
    "    df\n",
    "    .groupby([\"storeLocation\"])\n",
    "    .agg(\n",
    "        n_sales=(\"couponUsed\",\"count\"),\n",
    "        n_coupon=(\"couponUsed\",\"sum\")\n",
    "    )\n",
    "    .reset_index()\n",
    ")\n",
    "segment_storeLocation[\"pct_coupon\"] = segment_storeLocation[\"n_coupon\"] / segment_storeLocation[\"n_sales\"] * 100\n",
    "\n",
    "segment_storeLocation.head()"
   ],
   "id": "d87a7d747486d8bc",
   "outputs": [
    {
     "data": {
      "text/plain": [
       "  storeLocation  n_sales  n_coupon  pct_coupon\n",
       "0        Austin      676        58    8.579882\n",
       "1        Denver     1549       157   10.135571\n",
       "2        London      794        76    9.571788\n",
       "3      New York      501        56   11.177645\n",
       "4     San Diego      346        27    7.803468"
      ],
      "text/html": [
       "<div>\n",
       "<style scoped>\n",
       "    .dataframe tbody tr th:only-of-type {\n",
       "        vertical-align: middle;\n",
       "    }\n",
       "\n",
       "    .dataframe tbody tr th {\n",
       "        vertical-align: top;\n",
       "    }\n",
       "\n",
       "    .dataframe thead th {\n",
       "        text-align: right;\n",
       "    }\n",
       "</style>\n",
       "<table border=\"1\" class=\"dataframe\">\n",
       "  <thead>\n",
       "    <tr style=\"text-align: right;\">\n",
       "      <th></th>\n",
       "      <th>storeLocation</th>\n",
       "      <th>n_sales</th>\n",
       "      <th>n_coupon</th>\n",
       "      <th>pct_coupon</th>\n",
       "    </tr>\n",
       "  </thead>\n",
       "  <tbody>\n",
       "    <tr>\n",
       "      <th>0</th>\n",
       "      <td>Austin</td>\n",
       "      <td>676</td>\n",
       "      <td>58</td>\n",
       "      <td>8.579882</td>\n",
       "    </tr>\n",
       "    <tr>\n",
       "      <th>1</th>\n",
       "      <td>Denver</td>\n",
       "      <td>1549</td>\n",
       "      <td>157</td>\n",
       "      <td>10.135571</td>\n",
       "    </tr>\n",
       "    <tr>\n",
       "      <th>2</th>\n",
       "      <td>London</td>\n",
       "      <td>794</td>\n",
       "      <td>76</td>\n",
       "      <td>9.571788</td>\n",
       "    </tr>\n",
       "    <tr>\n",
       "      <th>3</th>\n",
       "      <td>New York</td>\n",
       "      <td>501</td>\n",
       "      <td>56</td>\n",
       "      <td>11.177645</td>\n",
       "    </tr>\n",
       "    <tr>\n",
       "      <th>4</th>\n",
       "      <td>San Diego</td>\n",
       "      <td>346</td>\n",
       "      <td>27</td>\n",
       "      <td>7.803468</td>\n",
       "    </tr>\n",
       "  </tbody>\n",
       "</table>\n",
       "</div>"
      ]
     },
     "execution_count": 166,
     "metadata": {},
     "output_type": "execute_result"
    }
   ],
   "execution_count": 166
  },
  {
   "metadata": {
    "ExecuteTime": {
     "end_time": "2025-10-01T01:39:24.226238Z",
     "start_time": "2025-10-01T01:39:24.213737Z"
    }
   },
   "cell_type": "code",
   "source": [
    "# purchaseMethod\n",
    "bins = [0,18,25,35,50,65,120]\n",
    "labels = [\"<18\",\"18–24\",\"25–34\",\"35–49\",\"50–64\",\"65+\"]\n",
    "df[\"age_group\"] = pd.cut(df[\"age\"], bins=bins, labels=labels)\n",
    "\n",
    "segments_age = (\n",
    "    df\n",
    "    .groupby([\"age_group\"])\n",
    "    .agg(\n",
    "        n_sales=(\"couponUsed\",\"count\"),\n",
    "        n_coupon=(\"couponUsed\",\"sum\")\n",
    "    )\n",
    "    .reset_index()\n",
    ")\n",
    "segments_age[\"pct_coupon\"] = segments_age[\"n_coupon\"] / segments_age[\"n_sales\"] * 100\n",
    "\n",
    "segments_age.head()\n"
   ],
   "id": "2c12bb740925fe73",
   "outputs": [
    {
     "name": "stderr",
     "output_type": "stream",
     "text": [
      "/var/folders/m_/3l9pb3g94g1gx4rz20ndgyj40000gn/T/ipykernel_9273/1785951656.py:8: FutureWarning: The default of observed=False is deprecated and will be changed to True in a future version of pandas. Pass observed=False to retain current behavior or observed=True to adopt the future default and silence this warning.\n",
      "  .groupby([\"age_group\"])\n"
     ]
    },
    {
     "data": {
      "text/plain": [
       "  age_group  n_sales  n_coupon  pct_coupon\n",
       "0       <18      120        12   10.000000\n",
       "1     18–24      374        34    9.090909\n",
       "2     25–34      943       101   10.710498\n",
       "3     35–49     1837       177    9.635275\n",
       "4     50–64     1289       121    9.387122"
      ],
      "text/html": [
       "<div>\n",
       "<style scoped>\n",
       "    .dataframe tbody tr th:only-of-type {\n",
       "        vertical-align: middle;\n",
       "    }\n",
       "\n",
       "    .dataframe tbody tr th {\n",
       "        vertical-align: top;\n",
       "    }\n",
       "\n",
       "    .dataframe thead th {\n",
       "        text-align: right;\n",
       "    }\n",
       "</style>\n",
       "<table border=\"1\" class=\"dataframe\">\n",
       "  <thead>\n",
       "    <tr style=\"text-align: right;\">\n",
       "      <th></th>\n",
       "      <th>age_group</th>\n",
       "      <th>n_sales</th>\n",
       "      <th>n_coupon</th>\n",
       "      <th>pct_coupon</th>\n",
       "    </tr>\n",
       "  </thead>\n",
       "  <tbody>\n",
       "    <tr>\n",
       "      <th>0</th>\n",
       "      <td>&lt;18</td>\n",
       "      <td>120</td>\n",
       "      <td>12</td>\n",
       "      <td>10.000000</td>\n",
       "    </tr>\n",
       "    <tr>\n",
       "      <th>1</th>\n",
       "      <td>18–24</td>\n",
       "      <td>374</td>\n",
       "      <td>34</td>\n",
       "      <td>9.090909</td>\n",
       "    </tr>\n",
       "    <tr>\n",
       "      <th>2</th>\n",
       "      <td>25–34</td>\n",
       "      <td>943</td>\n",
       "      <td>101</td>\n",
       "      <td>10.710498</td>\n",
       "    </tr>\n",
       "    <tr>\n",
       "      <th>3</th>\n",
       "      <td>35–49</td>\n",
       "      <td>1837</td>\n",
       "      <td>177</td>\n",
       "      <td>9.635275</td>\n",
       "    </tr>\n",
       "    <tr>\n",
       "      <th>4</th>\n",
       "      <td>50–64</td>\n",
       "      <td>1289</td>\n",
       "      <td>121</td>\n",
       "      <td>9.387122</td>\n",
       "    </tr>\n",
       "  </tbody>\n",
       "</table>\n",
       "</div>"
      ]
     },
     "execution_count": 167,
     "metadata": {},
     "output_type": "execute_result"
    }
   ],
   "execution_count": 167
  },
  {
   "metadata": {
    "ExecuteTime": {
     "end_time": "2025-10-01T01:39:24.255825Z",
     "start_time": "2025-10-01T01:39:24.240738Z"
    }
   },
   "cell_type": "code",
   "source": [
    "# purchaseMethod\n",
    "\n",
    "segments_purchase_method = (\n",
    "    df\n",
    "    .groupby([\"purchaseMethod\"])\n",
    "    .agg(\n",
    "        n_sales=(\"couponUsed\",\"count\"),\n",
    "        n_coupon=(\"couponUsed\",\"sum\")\n",
    "    )\n",
    "    .reset_index()\n",
    ")\n",
    "segments_purchase_method[\"pct_coupon\"] = segments_purchase_method[\"n_coupon\"] / segments_purchase_method[\"n_sales\"] * 100\n",
    "\n",
    "segments_purchase_method"
   ],
   "id": "21b194ba65315606",
   "outputs": [
    {
     "data": {
      "text/plain": [
       "  purchaseMethod  n_sales  n_coupon  pct_coupon\n",
       "0       In store     2819       266    9.435970\n",
       "1         Online     1585       148    9.337539\n",
       "2          Phone      596        63   10.570470"
      ],
      "text/html": [
       "<div>\n",
       "<style scoped>\n",
       "    .dataframe tbody tr th:only-of-type {\n",
       "        vertical-align: middle;\n",
       "    }\n",
       "\n",
       "    .dataframe tbody tr th {\n",
       "        vertical-align: top;\n",
       "    }\n",
       "\n",
       "    .dataframe thead th {\n",
       "        text-align: right;\n",
       "    }\n",
       "</style>\n",
       "<table border=\"1\" class=\"dataframe\">\n",
       "  <thead>\n",
       "    <tr style=\"text-align: right;\">\n",
       "      <th></th>\n",
       "      <th>purchaseMethod</th>\n",
       "      <th>n_sales</th>\n",
       "      <th>n_coupon</th>\n",
       "      <th>pct_coupon</th>\n",
       "    </tr>\n",
       "  </thead>\n",
       "  <tbody>\n",
       "    <tr>\n",
       "      <th>0</th>\n",
       "      <td>In store</td>\n",
       "      <td>2819</td>\n",
       "      <td>266</td>\n",
       "      <td>9.435970</td>\n",
       "    </tr>\n",
       "    <tr>\n",
       "      <th>1</th>\n",
       "      <td>Online</td>\n",
       "      <td>1585</td>\n",
       "      <td>148</td>\n",
       "      <td>9.337539</td>\n",
       "    </tr>\n",
       "    <tr>\n",
       "      <th>2</th>\n",
       "      <td>Phone</td>\n",
       "      <td>596</td>\n",
       "      <td>63</td>\n",
       "      <td>10.570470</td>\n",
       "    </tr>\n",
       "  </tbody>\n",
       "</table>\n",
       "</div>"
      ]
     },
     "execution_count": 168,
     "metadata": {},
     "output_type": "execute_result"
    }
   ],
   "execution_count": 168
  },
  {
   "metadata": {
    "ExecuteTime": {
     "end_time": "2025-10-01T01:39:24.391840Z",
     "start_time": "2025-10-01T01:39:24.266177Z"
    }
   },
   "cell_type": "code",
   "source": [
    "segments = (\n",
    "    df\n",
    "    .groupby([\"age_group\",\"purchaseMethod\"])\n",
    "    .agg(\n",
    "        n_sales=(\"couponUsed\",\"count\"),\n",
    "        n_coupon=(\"couponUsed\",\"sum\"),\n",
    "    )\n",
    "    .reset_index()\n",
    ")\n",
    "segments[\"pct_coupon\"] = segments[\"n_coupon\"] / segments[\"n_sales\"] * 100\n",
    "\n",
    "\n",
    "\n",
    "import seaborn as sns\n",
    "import matplotlib.pyplot as plt\n",
    "\n",
    "pivot = segments.pivot_table(\n",
    "    index=\"age_group\",\n",
    "    columns=\"purchaseMethod\",\n",
    "    values=\"pct_coupon\",\n",
    "    aggfunc=\"mean\",\n",
    "    observed=False\n",
    ")\n",
    "sns.heatmap(pivot, annot=True, fmt=\".1f\", cmap=\"Oranges\")\n",
    "plt.title(\"Coupon Usage (%) by Age Group & Purchase Method\")\n",
    "plt.show()\n"
   ],
   "id": "e5fec4bf91449543",
   "outputs": [
    {
     "name": "stderr",
     "output_type": "stream",
     "text": [
      "/var/folders/m_/3l9pb3g94g1gx4rz20ndgyj40000gn/T/ipykernel_9273/3783229284.py:3: FutureWarning: The default of observed=False is deprecated and will be changed to True in a future version of pandas. Pass observed=False to retain current behavior or observed=True to adopt the future default and silence this warning.\n",
      "  .groupby([\"age_group\",\"purchaseMethod\"])\n"
     ]
    },
    {
     "data": {
      "text/plain": [
       "<Figure size 640x480 with 2 Axes>"
      ],
      "image/png": "[encoded data removed]"
     },
     "metadata": {},
     "output_type": "display_data",
     "jetTransient": {
      "display_id": null
     }
    }
   ],
   "execution_count": 169
  },
  {
   "metadata": {
    "ExecuteTime": {
     "end_time": "2025-10-01T01:39:24.403866Z",
     "start_time": "2025-10-01T01:39:24.395736Z"
    }
   },
   "cell_type": "code",
   "source": [
    "# Under-18 shoppers stand out.\n",
    "#\n",
    "# They redeem coupons far more often when buying online or by phone than in-store.\n",
    "#\n",
    "# Phone purchases generally skew higher.\n",
    "#\n",
    "# Middle-age bands (25-64) hover around 9–14 % coupon usage.\n",
    "#\n",
    "# 65 + group is lowest overall, especially by phone .\n",
    "\n",
    "from statsmodels.stats.power import GofChisquarePower\n",
    "import numpy as np\n",
    "import math\n",
    "\n",
    "# power calculation to determine effective size\n",
    "chi_square_power = GofChisquarePower()\n",
    "group_size = math.ceil(chi_square_power.solve_power(effect_size=0.2, alpha=0.05, power=0.8))\n",
    "\n",
    "print(\"Group size\", group_size)\n",
    "print(\"Total # of applicants needed\", group_size * 2)"
   ],
   "id": "7a59d4078e9fef37",
   "outputs": [
    {
     "name": "stdout",
     "output_type": "stream",
     "text": [
      "Group size 197\n",
      "Total # of applicants needed 394\n"
     ]
    }
   ],
   "execution_count": 170
  },
  {
   "metadata": {
    "ExecuteTime": {
     "end_time": "2025-10-01T01:39:24.523953Z",
     "start_time": "2025-10-01T01:39:24.407967Z"
    }
   },
   "cell_type": "code",
   "source": [
    "n_observations = np.arange(0, group_size * 2 + 1)\n",
    "effective_sizes = np.array([0.2, 0.5, 0.8])\n",
    "\n",
    "# power curve using chi_square_power\n",
    "chi_square_power.plot_power(\n",
    "    dep_var=\"nobs\",\n",
    "    nobs=n_observations,\n",
    "    effect_size=effective_sizes,\n",
    "    alpha=0.05,\n",
    "    n_bins=2,\n",
    ");"
   ],
   "id": "be901a217801a270",
   "outputs": [
    {
     "data": {
      "text/plain": [
       "<Figure size 640x480 with 1 Axes>"
      ],
      "image/png": "[encoded data removed]"
     },
     "metadata": {},
     "output_type": "display_data",
     "jetTransient": {
      "display_id": null
     }
    }
   ],
   "execution_count": 171
  },
  {
   "metadata": {
    "ExecuteTime": {
     "end_time": "2025-10-01T01:39:24.851951Z",
     "start_time": "2025-10-01T01:39:24.529880Z"
    }
   },
   "cell_type": "code",
   "source": [
    "# since we would like to detect even the smaller effects we will use effect size = 0.2 meaning about 400(2 * group_size) observations is required in total\n",
    "\n",
    "# how long would it take to have this number of observations\n",
    "result = sales.aggregate(\n",
    "    [\n",
    "        {\"$match\": {\"couponUsed\": False}},\n",
    "        {\n",
    "            \"$group\": {\n",
    "                \"_id\": {\"$dateTrunc\": {\"date\": \"$saleDate\", \"unit\": \"day\"}},\n",
    "                \"count\": {\"$sum\": 1}\n",
    "            }\n",
    "        }\n",
    "    ]\n",
    ")\n",
    "\n",
    "docs = list(result)\n",
    "print(type(result))\n",
    "\n",
    "no_coupon_sales_per_day = (pd.DataFrame(docs)\n",
    "                 .rename(columns={\"_id\": \"date\", \"count\": \"no_couponUsed\"})\n",
    "                 .set_index(\"date\")\n",
    "                 .sort_index()\n",
    "                 .squeeze()\n",
    ")\n",
    "\n",
    "# print(sales_no_couponUsed_per_day.count())\n",
    "no_coupon_sales_per_day.head()"
   ],
   "id": "243b2af72c7cb927",
   "outputs": [
    {
     "name": "stdout",
     "output_type": "stream",
     "text": [
      "<class 'pymongo.synchronous.command_cursor.CommandCursor'>\n"
     ]
    },
    {
     "data": {
      "text/plain": [
       "date\n",
       "2013-01-01    3\n",
       "2013-01-02    6\n",
       "2013-01-04    3\n",
       "2013-01-06    2\n",
       "2013-01-07    2\n",
       "Name: no_couponUsed, dtype: int64"
      ]
     },
     "execution_count": 172,
     "metadata": {},
     "output_type": "execute_result"
    }
   ],
   "execution_count": 172
  },
  {
   "metadata": {
    "ExecuteTime": {
     "end_time": "2025-10-01T01:39:24.941239Z",
     "start_time": "2025-10-01T01:39:24.857462Z"
    }
   },
   "cell_type": "code",
   "source": [
    "no_coupon_sales_per_day.hist(bins=range(int(no_coupon_sales_per_day.min()),\n",
    "               int(no_coupon_sales_per_day.max()) + 2))\n",
    "\n",
    "plt.xlabel(\"Number of Coupon Not_Used in Sales per day\")\n",
    "plt.ylabel(\"Frequency (count)\");"
   ],
   "id": "1152f4371a69e944",
   "outputs": [
    {
     "data": {
      "text/plain": [
       "<Figure size 640x480 with 1 Axes>"
      ],
      "image/png": "[encoded data removed]"
     },
     "metadata": {},
     "output_type": "display_data",
     "jetTransient": {
      "display_id": null
     }
    }
   ],
   "execution_count": 173
  },
  {
   "metadata": {
    "ExecuteTime": {
     "end_time": "2025-10-01T01:39:24.952863Z",
     "start_time": "2025-10-01T01:39:24.946420Z"
    }
   },
   "cell_type": "code",
   "source": [
    "# from the histogram we can clearly see we have somewhere between 2 and 9 sales per day with no coupon\n",
    "\n",
    "mean = no_coupon_sales_per_day.describe()['mean']\n",
    "std = no_coupon_sales_per_day.describe()['std']\n",
    "print(mean)\n",
    "no_coupon_sales_per_day.describe()['std']\n"
   ],
   "id": "5438d0edba1e350d",
   "outputs": [
    {
     "name": "stdout",
     "output_type": "stream",
     "text": [
      "2.7051435406698565\n"
     ]
    },
    {
     "data": {
      "text/plain": [
       "1.467304910952635"
      ]
     },
     "execution_count": 174,
     "metadata": {},
     "output_type": "execute_result"
    }
   ],
   "execution_count": 174
  },
  {
   "metadata": {
    "ExecuteTime": {
     "end_time": "2025-10-01T01:39:24.960665Z",
     "start_time": "2025-10-01T01:39:24.957283Z"
    }
   },
   "cell_type": "code",
   "source": [
    "# considering the mean(2.705) and std(1.467), we will need 400 / (2.705+_1.467) days to carry out our experiment to have statistically significant result\n",
    "\n",
    "days = np.array([100, 200, 300, 400, 500])\n",
    "\n",
    "sum_mean = round(mean) * days\n",
    "sum_std = round(std) * np.sqrt(days)\n",
    "\n",
    "print(\"Mean of sum:\", sum_mean)\n",
    "print(\"Std of sum:\", sum_std)"
   ],
   "id": "d17ffa0a8282799c",
   "outputs": [
    {
     "name": "stdout",
     "output_type": "stream",
     "text": [
      "Mean of sum: [ 300  600  900 1200 1500]\n",
      "Std of sum: [10.         14.14213562 17.32050808 20.         22.36067977]\n"
     ]
    }
   ],
   "execution_count": 175
  },
  {
   "metadata": {
    "ExecuteTime": {
     "end_time": "2025-10-01T01:39:24.968580Z",
     "start_time": "2025-10-01T01:39:24.965289Z"
    }
   },
   "cell_type": "code",
   "source": [
    "import scipy\n",
    "\n",
    "# cdf_value = use CDF to get probability of 400 observations or fewer\n",
    "# 1 - cdf_vale = probability of 400 observations or more\n",
    "\n",
    "prob_400_fewer = scipy.stats.norm.cdf(\n",
    "    group_size * 2,\n",
    "    sum_mean,\n",
    "    sum_std\n",
    ")\n",
    "\n",
    "prob_400_more = 1 - prob_400_fewer\n",
    "\n",
    "print(f\"Prob 400 or more in {days} days:\", prob_400_more)"
   ],
   "id": "adb5b5041111c4a3",
   "outputs": [
    {
     "name": "stdout",
     "output_type": "stream",
     "text": [
      "Prob 400 or more in [100 200 300 400 500] days: [0. 1. 1. 1. 1.]\n"
     ]
    }
   ],
   "execution_count": 176
  },
  {
   "metadata": {
    "ExecuteTime": {
     "end_time": "2025-10-01T01:39:25.120115Z",
     "start_time": "2025-10-01T01:39:24.974665Z"
    }
   },
   "cell_type": "code",
   "source": [
    "# prob_400_more in 200days = 1.0, we can conduct our experiment for 200days\n",
    "from datetime import timedelta\n",
    "\n",
    "last_date = sales.find_one(sort=[(\"saleDate\", -1)])[\"saleDate\"]\n",
    "exp_start = last_date + timedelta(days=1)\n",
    "exp_end   = exp_start + timedelta(days=200)\n",
    "print(exp_start, exp_end)\n"
   ],
   "id": "2e18c10d18b8c8e1",
   "outputs": [
    {
     "name": "stdout",
     "output_type": "stream",
     "text": [
      "2018-01-01 18:15:34.758000 2018-07-20 18:15:34.758000\n"
     ]
    }
   ],
   "execution_count": 177
  },
  {
   "metadata": {
    "ExecuteTime": {
     "end_time": "2025-10-01T01:40:25.694704Z",
     "start_time": "2025-10-01T01:39:25.124885Z"
    }
   },
   "cell_type": "code",
   "source": [
    "# 200days experiment synthesized with random coupon usage\n",
    "import numpy as np\n",
    "\n",
    "n_total = 400\n",
    "days    = 200\n",
    "mean_per_day = n_total // days\n",
    "\n",
    "# remove every document previously tagged as part of the experiment\n",
    "sales.delete_many({\"experimentFlag\": True})\n",
    "\n",
    "def age_to_group(age):\n",
    "    if age < 18:   return \"<18\"\n",
    "    elif age < 25: return \"18–24\"\n",
    "    elif age < 35: return \"25–34\"\n",
    "    elif age < 50: return \"35–49\"\n",
    "    elif age < 65: return \"50–64\"\n",
    "    else:          return \"65+\"\n",
    "\n",
    "new_rows = []\n",
    "for d in range(days):\n",
    "    sale_date = exp_start + timedelta(days=d)\n",
    "\n",
    "    # ensure at least one record per day\n",
    "    n_today = max(1, np.random.poisson(mean_per_day))\n",
    "\n",
    "    for _ in range(n_today):\n",
    "        # sample an existing record as a template\n",
    "        template = sales.aggregate([{\"$sample\": {\"size\": 1}}]).next()\n",
    "\n",
    "        # create a clean copy without the original _id\n",
    "        new_doc = {k: v for k, v in template.items() if k != \"_id\"}\n",
    "\n",
    "        new_doc[\"saleDate\"] = sale_date\n",
    "        new_doc[\"experimentFlag\"] = True\n",
    "        new_doc[\"couponUsed\"] = bool(np.random.choice([True, False],\n",
    "                                                     p=[0.45, 0.55]))\n",
    "        # derive age_group from the customer’s age\n",
    "        cust_age = new_doc.get(\"customer\", {}).get(\"age\")\n",
    "        if cust_age is not None:\n",
    "            new_doc[\"age_group\"] = age_to_group(cust_age)\n",
    "\n",
    "        #improve Item quantities\n",
    "        boosted_items = []\n",
    "        for item in new_doc.get(\"items\", []):\n",
    "            item_copy = item.copy()\n",
    "            # increase quantity by 20–50% (at least +1)\n",
    "            factor = np.random.uniform(1.2, 1.5)\n",
    "            old_q = item_copy.get(\"quantity\", 1)\n",
    "            new_q = max(1, int(round(old_q * factor)))\n",
    "            item_copy[\"quantity\"] = new_q\n",
    "            boosted_items.append(item_copy)\n",
    "            new_doc[\"items\"] = boosted_items\n",
    "        new_rows.append(new_doc)\n",
    "\n",
    "# insert new rows to collections\n",
    "if new_rows:\n",
    "    sales.insert_many(new_rows)\n",
    "    print(f\"Inserted {len(new_rows)} synthetic experiment docs.\")\n",
    "else:\n",
    "    print(\"No new rows generated.\")\n"
   ],
   "id": "7894bc7a882ce51",
   "outputs": [
    {
     "name": "stdout",
     "output_type": "stream",
     "text": [
      "Inserted 410 synthetic experiment docs.\n"
     ]
    }
   ],
   "execution_count": 178
  },
  {
   "metadata": {
    "ExecuteTime": {
     "end_time": "2025-10-01T01:40:25.875928Z",
     "start_time": "2025-10-01T01:40:25.742676Z"
    }
   },
   "cell_type": "code",
   "source": [
    "doc = sales.find_one({\"experimentFlag\": True})\n",
    "print(doc)\n"
   ],
   "id": "b2d0aea8eb2507f1",
   "outputs": [
    {
     "name": "stdout",
     "output_type": "stream",
     "text": [
      "{'_id': ObjectId('68dc8687a1418801326b94c2'), 'saleDate': datetime.datetime(2018, 1, 1, 18, 15, 34, 758000), 'items': [{'name': 'laptop', 'tags': ['electronics', 'school', 'office'], 'price': Decimal128('1525.66'), 'quantity': 6}, {'name': 'binder', 'tags': ['school', 'general', 'organization'], 'price': Decimal128('14.51'), 'quantity': 9}], 'storeLocation': 'Seattle', 'customer': {'gender': 'M', 'age': 57, 'email': 'diice@tocpavej.gr', 'satisfaction': 3}, 'couponUsed': False, 'purchaseMethod': 'In store', 'experimentFlag': True, 'age_group': '50–64'}\n"
     ]
    }
   ],
   "execution_count": 179
  },
  {
   "metadata": {
    "ExecuteTime": {
     "end_time": "2025-10-01T01:40:26.661645Z",
     "start_time": "2025-10-01T01:40:25.882327Z"
    }
   },
   "cell_type": "code",
   "source": [
    "result = sales.find({\"experimentFlag\": True},{\n",
    "        \"_id\": 0,\n",
    "        \"saleDate\": 1,\n",
    "        \"storeLocation\": 1,\n",
    "        \"couponUsed\": 1,\n",
    "        \"purchaseMethod\": 1,\n",
    "        \"customer\": 1,\n",
    "        \"items\": 1,\n",
    "        \"experimentFlag\": 1,\n",
    "        \"age_group\": 1,\n",
    "    })\n",
    "df = pd.DataFrame(result).dropna()\n",
    "df.head()"
   ],
   "id": "bc1d0deff4741d14",
   "outputs": [
    {
     "data": {
      "text/plain": [
       "                 saleDate                                              items  \\\n",
       "0 2018-01-01 18:15:34.758  [{'name': 'laptop', 'tags': ['electronics', 's...   \n",
       "1 2018-01-02 18:15:34.758  [{'name': 'printer paper', 'tags': ['office', ...   \n",
       "2 2018-01-02 18:15:34.758  [{'name': 'laptop', 'tags': ['electronics', 's...   \n",
       "3 2018-01-02 18:15:34.758  [{'name': 'notepad', 'tags': ['office', 'writi...   \n",
       "4 2018-01-03 18:15:34.758  [{'name': 'notepad', 'tags': ['office', 'writi...   \n",
       "\n",
       "  storeLocation                                           customer  \\\n",
       "0       Seattle  {'gender': 'M', 'age': 57, 'email': 'diice@toc...   \n",
       "1        London  {'gender': 'M', 'age': 30, 'email': 'wipo@petv...   \n",
       "2        Austin  {'gender': 'M', 'age': 40, 'email': 'wij@baptu...   \n",
       "3     San Diego  {'gender': 'F', 'age': 36, 'email': 'ba@ge.to'...   \n",
       "4       Seattle  {'gender': 'F', 'age': 50, 'email': 'vom@opgu....   \n",
       "\n",
       "   couponUsed purchaseMethod  experimentFlag age_group  \n",
       "0       False       In store            True     50–64  \n",
       "1        True         Online            True     25–34  \n",
       "2       False         Online            True     35–49  \n",
       "3        True       In store            True     35–49  \n",
       "4       False          Phone            True     50–64  "
      ],
      "text/html": [
       "<div>\n",
       "<style scoped>\n",
       "    .dataframe tbody tr th:only-of-type {\n",
       "        vertical-align: middle;\n",
       "    }\n",
       "\n",
       "    .dataframe tbody tr th {\n",
       "        vertical-align: top;\n",
       "    }\n",
       "\n",
       "    .dataframe thead th {\n",
       "        text-align: right;\n",
       "    }\n",
       "</style>\n",
       "<table border=\"1\" class=\"dataframe\">\n",
       "  <thead>\n",
       "    <tr style=\"text-align: right;\">\n",
       "      <th></th>\n",
       "      <th>saleDate</th>\n",
       "      <th>items</th>\n",
       "      <th>storeLocation</th>\n",
       "      <th>customer</th>\n",
       "      <th>couponUsed</th>\n",
       "      <th>purchaseMethod</th>\n",
       "      <th>experimentFlag</th>\n",
       "      <th>age_group</th>\n",
       "    </tr>\n",
       "  </thead>\n",
       "  <tbody>\n",
       "    <tr>\n",
       "      <th>0</th>\n",
       "      <td>2018-01-01 18:15:34.758</td>\n",
       "      <td>[{'name': 'laptop', 'tags': ['electronics', 's...</td>\n",
       "      <td>Seattle</td>\n",
       "      <td>{'gender': 'M', 'age': 57, 'email': 'diice@toc...</td>\n",
       "      <td>False</td>\n",
       "      <td>In store</td>\n",
       "      <td>True</td>\n",
       "      <td>50–64</td>\n",
       "    </tr>\n",
       "    <tr>\n",
       "      <th>1</th>\n",
       "      <td>2018-01-02 18:15:34.758</td>\n",
       "      <td>[{'name': 'printer paper', 'tags': ['office', ...</td>\n",
       "      <td>London</td>\n",
       "      <td>{'gender': 'M', 'age': 30, 'email': 'wipo@petv...</td>\n",
       "      <td>True</td>\n",
       "      <td>Online</td>\n",
       "      <td>True</td>\n",
       "      <td>25–34</td>\n",
       "    </tr>\n",
       "    <tr>\n",
       "      <th>2</th>\n",
       "      <td>2018-01-02 18:15:34.758</td>\n",
       "      <td>[{'name': 'laptop', 'tags': ['electronics', 's...</td>\n",
       "      <td>Austin</td>\n",
       "      <td>{'gender': 'M', 'age': 40, 'email': 'wij@baptu...</td>\n",
       "      <td>False</td>\n",
       "      <td>Online</td>\n",
       "      <td>True</td>\n",
       "      <td>35–49</td>\n",
       "    </tr>\n",
       "    <tr>\n",
       "      <th>3</th>\n",
       "      <td>2018-01-02 18:15:34.758</td>\n",
       "      <td>[{'name': 'notepad', 'tags': ['office', 'writi...</td>\n",
       "      <td>San Diego</td>\n",
       "      <td>{'gender': 'F', 'age': 36, 'email': 'ba@ge.to'...</td>\n",
       "      <td>True</td>\n",
       "      <td>In store</td>\n",
       "      <td>True</td>\n",
       "      <td>35–49</td>\n",
       "    </tr>\n",
       "    <tr>\n",
       "      <th>4</th>\n",
       "      <td>2018-01-03 18:15:34.758</td>\n",
       "      <td>[{'name': 'notepad', 'tags': ['office', 'writi...</td>\n",
       "      <td>Seattle</td>\n",
       "      <td>{'gender': 'F', 'age': 50, 'email': 'vom@opgu....</td>\n",
       "      <td>False</td>\n",
       "      <td>Phone</td>\n",
       "      <td>True</td>\n",
       "      <td>50–64</td>\n",
       "    </tr>\n",
       "  </tbody>\n",
       "</table>\n",
       "</div>"
      ]
     },
     "execution_count": 180,
     "metadata": {},
     "output_type": "execute_result"
    }
   ],
   "execution_count": 180
  },
  {
   "metadata": {
    "ExecuteTime": {
     "end_time": "2025-10-01T01:40:27.320270Z",
     "start_time": "2025-10-01T01:40:26.668701Z"
    }
   },
   "cell_type": "code",
   "source": [
    "\n",
    "exp = pd.DataFrame(list(sales.find({\"experimentFlag\": True}, {\"couponUsed\":1})))\n",
    "base= pd.DataFrame(list(sales.find({\"experimentFlag\": {\"$exists\": False}}, {\"couponUsed\":1})))\n",
    "exp_df  = pd.DataFrame({\"coupon\": exp[\"couponUsed\"],  \"group\": \"experiment\"})\n",
    "base_df = pd.DataFrame({\"coupon\": base[\"couponUsed\"], \"group\": \"control\"})\n",
    "all_df  = pd.concat([exp_df, base_df], ignore_index=True)\n",
    "\n",
    "data_df = pd.crosstab(all_df[\"coupon\"], all_df[\"group\"])\n",
    "\n",
    "from statsmodels.stats.contingency_tables import Table2x2\n",
    "\n",
    "contingency_table = Table2x2(data_df.values)\n",
    "\n",
    "# print(contingency_table.fitted_values)\n",
    "\n",
    "# contingency_table.independence_probabilities.round(3)\n",
    "\n",
    "chi_square_test_result = contingency_table.test_nominal_association()\n",
    "print(chi_square_test_result)\n",
    "# all_df.head()"
   ],
   "id": "6c2a1ad201095343",
   "outputs": [
    {
     "name": "stdout",
     "output_type": "stream",
     "text": [
      "df          1\n",
      "pvalue      0.0\n",
      "statistic   452.28424655659353\n"
     ]
    }
   ],
   "execution_count": 181
  },
  {
   "metadata": {
    "ExecuteTime": {
     "end_time": "2025-10-01T01:40:27.347819Z",
     "start_time": "2025-10-01T01:40:27.339863Z"
    }
   },
   "cell_type": "code",
   "source": [
    "# since our p_value=0.0 is less than 0.05\n",
    "# We reject the null hypothesis(there is significant difference in sending reminder to use coupon to our customers\n",
    "\n",
    "summary = contingency_table.summary()\n",
    "summary"
   ],
   "id": "7fba8aed0fcfeb60",
   "outputs": [
    {
     "data": {
      "text/plain": [
       "<class 'statsmodels.iolib.table.SimpleTable'>"
      ],
      "text/html": [
       "<table class=\"simpletable\">\n",
       "<tr>\n",
       "         <td></td>        <th>Estimate</th>  <th>SE</th>    <th>LCB</th>   <th>UCB</th>  <th>p-value</th>\n",
       "</tr>\n",
       "<tr>\n",
       "  <th>Odds ratio</th>        <td>7.874</td>      <td></td> <td>6.343</td> <td>9.773</td>   <td>0.000</td>\n",
       "</tr>\n",
       "<tr>\n",
       "  <th>Log odds ratio</th>    <td>2.064</td> <td>0.110</td> <td>1.847</td> <td>2.280</td>   <td>0.000</td>\n",
       "</tr>\n",
       "<tr>\n",
       "  <th>Risk ratio</th>        <td>1.324</td>      <td></td> <td>1.262</td> <td>1.389</td>   <td>0.000</td>\n",
       "</tr>\n",
       "<tr>\n",
       "  <th>Log risk ratio</th>    <td>0.281</td> <td>0.024</td> <td>0.233</td> <td>0.329</td>   <td>0.000</td>\n",
       "</tr>\n",
       "</table>"
      ],
      "text/latex": "\\begin{center}\n\\begin{tabular}{lccccc}\n\n                        & \\textbf{Estimate} & \\textbf{SE} & \\textbf{LCB} & \\textbf{UCB} & \\textbf{p-value}  \\\\\n\\midrule\n\\bottomrule\n\\end{tabular}\n\\begin{tabular}{lrrrrr}\n\\textbf{Odds ratio}     &             7.874 &             &        6.343 &        9.773 &            0.000  \\\\\n\\textbf{Log odds ratio} &             2.064 &       0.110 &        1.847 &        2.280 &            0.000  \\\\\n\\textbf{Risk ratio}     &             1.324 &             &        1.262 &        1.389 &            0.000  \\\\\n\\textbf{Log risk ratio} &             0.281 &       0.024 &        0.233 &        0.329 &            0.000  \\\\\n\\bottomrule\n\\end{tabular}\n\\end{center}"
     },
     "execution_count": 182,
     "metadata": {},
     "output_type": "execute_result"
    }
   ],
   "execution_count": 182
  },
  {
   "metadata": {
    "ExecuteTime": {
     "end_time": "2025-10-01T01:40:27.368326Z",
     "start_time": "2025-10-01T01:40:27.358064Z"
    }
   },
   "cell_type": "code",
   "source": [
    "segments_exp = (\n",
    "    df\n",
    "    .groupby([\"age_group\",\"purchaseMethod\"])\n",
    "    .agg(\n",
    "        n_sales=(\"couponUsed\",\"count\"),\n",
    "        n_coupon=(\"couponUsed\",\"sum\")\n",
    "    )\n",
    "    .reset_index()\n",
    ")\n",
    "segments_exp[\"pct_coupon\"] = (segments_exp[\"n_coupon\"] / segments_exp[\"n_sales\"]) * 100\n",
    "\n",
    "segments_exp.head()\n"
   ],
   "id": "38ff0dcc6eafe2e1",
   "outputs": [
    {
     "data": {
      "text/plain": [
       "  age_group purchaseMethod  n_sales  n_coupon  pct_coupon\n",
       "0     18–24       In store       17        10   58.823529\n",
       "1     18–24         Online        6         4   66.666667\n",
       "2     18–24          Phone        9         2   22.222222\n",
       "3     25–34       In store       36        17   47.222222\n",
       "4     25–34         Online       25        11   44.000000"
      ],
      "text/html": [
       "<div>\n",
       "<style scoped>\n",
       "    .dataframe tbody tr th:only-of-type {\n",
       "        vertical-align: middle;\n",
       "    }\n",
       "\n",
       "    .dataframe tbody tr th {\n",
       "        vertical-align: top;\n",
       "    }\n",
       "\n",
       "    .dataframe thead th {\n",
       "        text-align: right;\n",
       "    }\n",
       "</style>\n",
       "<table border=\"1\" class=\"dataframe\">\n",
       "  <thead>\n",
       "    <tr style=\"text-align: right;\">\n",
       "      <th></th>\n",
       "      <th>age_group</th>\n",
       "      <th>purchaseMethod</th>\n",
       "      <th>n_sales</th>\n",
       "      <th>n_coupon</th>\n",
       "      <th>pct_coupon</th>\n",
       "    </tr>\n",
       "  </thead>\n",
       "  <tbody>\n",
       "    <tr>\n",
       "      <th>0</th>\n",
       "      <td>18–24</td>\n",
       "      <td>In store</td>\n",
       "      <td>17</td>\n",
       "      <td>10</td>\n",
       "      <td>58.823529</td>\n",
       "    </tr>\n",
       "    <tr>\n",
       "      <th>1</th>\n",
       "      <td>18–24</td>\n",
       "      <td>Online</td>\n",
       "      <td>6</td>\n",
       "      <td>4</td>\n",
       "      <td>66.666667</td>\n",
       "    </tr>\n",
       "    <tr>\n",
       "      <th>2</th>\n",
       "      <td>18–24</td>\n",
       "      <td>Phone</td>\n",
       "      <td>9</td>\n",
       "      <td>2</td>\n",
       "      <td>22.222222</td>\n",
       "    </tr>\n",
       "    <tr>\n",
       "      <th>3</th>\n",
       "      <td>25–34</td>\n",
       "      <td>In store</td>\n",
       "      <td>36</td>\n",
       "      <td>17</td>\n",
       "      <td>47.222222</td>\n",
       "    </tr>\n",
       "    <tr>\n",
       "      <th>4</th>\n",
       "      <td>25–34</td>\n",
       "      <td>Online</td>\n",
       "      <td>25</td>\n",
       "      <td>11</td>\n",
       "      <td>44.000000</td>\n",
       "    </tr>\n",
       "  </tbody>\n",
       "</table>\n",
       "</div>"
      ]
     },
     "execution_count": 183,
     "metadata": {},
     "output_type": "execute_result"
    }
   ],
   "execution_count": 183
  },
  {
   "metadata": {
    "ExecuteTime": {
     "end_time": "2025-10-01T01:40:27.474773Z",
     "start_time": "2025-10-01T01:40:27.376538Z"
    }
   },
   "cell_type": "code",
   "source": [
    "pivot = segments_exp.pivot_table(\n",
    "    index=\"age_group\",\n",
    "    columns=\"purchaseMethod\",\n",
    "    values=\"pct_coupon\",\n",
    "    aggfunc=\"mean\",\n",
    "    observed=False\n",
    ")\n",
    "sns.heatmap(pivot, annot=True, fmt=\".1f\", cmap=\"Oranges\")\n",
    "plt.title(\"Coupon Usage (%) by Age Group & Purchase Method\")\n",
    "plt.show()\n"
   ],
   "id": "a99fecbca5d68535",
   "outputs": [
    {
     "data": {
      "text/plain": [
       "<Figure size 640x480 with 2 Axes>"
      ],
      "image/png": "[encoded data removed]"
     },
     "metadata": {},
     "output_type": "display_data",
     "jetTransient": {
      "display_id": null
     }
    }
   ],
   "execution_count": 184
  },
  {
   "metadata": {
    "ExecuteTime": {
     "end_time": "2025-10-01T01:40:30.489527Z",
     "start_time": "2025-10-01T01:40:27.480375Z"
    }
   },
   "cell_type": "code",
   "source": [
    "import pandas as pd\n",
    "\n",
    "# Control = original data\n",
    "control_df = pd.DataFrame(list(\n",
    "    sales.find({\"experimentFlag\": {\"$ne\": True}},\n",
    "               {\"_id\":0,\"items\":1,\"couponUsed\":1})\n",
    "))\n",
    "\n",
    "# Experiment = synthetic group\n",
    "exp_df = pd.DataFrame(list(\n",
    "    sales.find({\"experimentFlag\": True},\n",
    "               {\"_id\":0,\"items\":1,\"couponUsed\":1})\n",
    "))\n",
    "\n",
    "def order_total(items):\n",
    "    return sum(float(it[\"price\"].to_decimal()) * it[\"quantity\"] for it in items)\n",
    "\n",
    "control_df[\"sale_amount\"] = control_df[\"items\"].apply(order_total)\n",
    "exp_df[\"sale_amount\"]     = exp_df[\"items\"].apply(order_total)\n",
    "\n",
    "\n",
    "baseline_avg   = control_df[\"sale_amount\"].mean()\n",
    "experiment_avg = exp_df[\"sale_amount\"].mean()\n",
    "\n",
    "baseline_total = control_df[\"sale_amount\"].sum()\n",
    "experiment_total = exp_df[\"sale_amount\"].sum()\n",
    "\n",
    "lift = (experiment_avg - baseline_avg) / baseline_avg * 100\n",
    "\n",
    "\n",
    "def coupon_stats(df):\n",
    "    with_coupon    = df[df[\"couponUsed\"]]\n",
    "    without_coupon = df[~df[\"couponUsed\"]]\n",
    "    return {\n",
    "        \"mean_with_coupon\":    with_coupon[\"sale_amount\"].mean(),\n",
    "        \"mean_without_coupon\": without_coupon[\"sale_amount\"].mean(),\n",
    "        \"usage_rate\":          with_coupon.shape[0] / df.shape[0] * 100\n",
    "    }\n",
    "\n",
    "control_stats = coupon_stats(control_df)\n",
    "experiment_stats = coupon_stats(exp_df)\n",
    "print(control_stats, experiment_stats)\n",
    "print(lift)"
   ],
   "id": "cad45f2fd321282c",
   "outputs": [
    {
     "name": "stdout",
     "output_type": "stream",
     "text": [
      "{'mean_with_coupon': 2034.3766876310274, 'mean_without_coupon': 1973.0653526420517, 'usage_rate': 9.54} {'mean_with_coupon': 2857.5190860215057, 'mean_without_coupon': 2422.430714285714, 'usage_rate': 45.36585365853659}\n",
      "32.38633246612703\n"
     ]
    }
   ],
   "execution_count": 185
  },
  {
   "metadata": {
    "ExecuteTime": {
     "end_time": "2025-10-01T01:40:30.495928Z",
     "start_time": "2025-10-01T01:40:30.493254Z"
    }
   },
   "cell_type": "code",
   "source": [
    "control_avg_sale = control_df[\"sale_amount\"].sum() / len(control_df[\"sale_amount\"])\n",
    "experiment_avg_sale = exp_df[\"sale_amount\"].sum() / len(exp_df[\"sale_amount\"])\n",
    "print(control_avg_sale)\n",
    "print(experiment_avg_sale)"
   ],
   "id": "db54cf0b773f1c45",
   "outputs": [
    {
     "name": "stdout",
     "output_type": "stream",
     "text": [
      "1978.914454\n",
      "2619.8122682926823\n"
     ]
    }
   ],
   "execution_count": 186
  }
 ],
 "metadata": {
  "kernelspec": {
   "display_name": "Python (venv312)",
   "language": "python",
   "name": "venv312"
  },
  "language_info": {
   "codemirror_mode": {
    "name": "ipython",
    "version": 2
   },
   "file_extension": ".py",
   "mimetype": "text/x-python",
   "name": "python",
   "nbconvert_exporter": "python",
   "pygments_lexer": "ipython2",
   "version": "2.7.6"
  }
 },
 "nbformat": 4,
 "nbformat_minor": 5
}
